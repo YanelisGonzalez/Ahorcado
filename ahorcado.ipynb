{
 "cells": [
  {
   "attachments": {},
   "cell_type": "markdown",
   "metadata": {},
   "source": [
    "## Juego del Ahorcado\n",
    "Desarrolla el juego del ahorcado en python. En cada turno irá mostrando por pantalla ```_ _ _ _ _``` las rayas bajas correspondientes al número de letras que tiene la palabra a adivinar. El usuario deberá insertar una letra y, si esa letra existe, se mostrará o mostrarán las letras acertadas ```S _ S _ _``` en sus posiciones correspondientes. \n",
    "\n",
    "Si falla, se mostrará el número de errores que lleva y, si lleva x errores, entonces se mostrará \"Fin del juego\"."
   ]
  },
  {
   "cell_type": "markdown",
   "metadata": {},
   "source": [
    "1. Inicializa el juego: declara una palabra a adivinar y muestra por pantalla la palabra oculta. (En clase)\n"
   ]
  },
  {
   "cell_type": "markdown",
   "metadata": {},
   "source": [
    "\n",
    "```python\n",
    "_ _ _ _ _ _ _ _\n",
    "```"
   ]
  },
  {
   "cell_type": "code",
   "execution_count": null,
   "metadata": {},
   "outputs": [],
   "source": [
    "# Declaro todas las variables necesarias para el juego\n",
    "\n",
    "import random\n",
    "\n",
    "def jugar_ahorcado():\n",
    "    print('🎯 Bienvenido al juego del AHORCADO')\n",
    "\n",
    "    # Lista de palabras posibles\n",
    "lista_palabras = ['python', 'ciencia', 'datos', 'programacion', 'analista']\n",
    "palabra_secreta = random.choice(lista_palabras) # De la lista de palabras, escoge una aleatoreamente\n",
    "letras_acertadas = [ '_' ] * len(palabra_secreta) # Crea una lista con tantos guiones bajos como letras tenga la palabra secreta\n",
    "letras_intentadas = [] # Lista vacía para asegurar que no se repitan las letras\n",
    "errores = 0\n",
    "max_errores = 6 # Número de errores permitidos, también se puede ajustar la dificultad del juego cambiando este valor"
   ]
  },
  {
   "cell_type": "code",
   "execution_count": null,
   "metadata": {},
   "outputs": [
    {
     "name": "stdout",
     "output_type": "stream",
     "text": [
      "🎯 Bienvenido al juego del AHORCADO\n",
      "Adivina la palabra secreta. Tienes 6 intentos.\n",
      "_ _ _ _ _ _ _ _ _ _ _ _\n"
     ]
    }
   ],
   "source": [
    "\n",
    "print('Adivina la palabra secreta. Tienes', max_errores, 'intentos.')\n",
    "print(*letras_acertadas) # Muestra los guines bajos separados por espacios"
   ]
  },
  {
   "cell_type": "code",
   "execution_count": null,
   "metadata": {},
   "outputs": [
    {
     "name": "stdout",
     "output_type": "stream",
     "text": [
      "❌ La letra s no está en la palabra secreta. Te quedan 6 intentos.\n",
      "_ _ _ _ _ _ _ _ _ _ _ _\n",
      "✅ ¡Bien hecho! La letra a está en la palabra secreta\n",
      "_ _ _ _ _ a _ a _ _ _ _\n",
      "✅ ¡Bien hecho! La letra n está en la palabra secreta\n",
      "_ _ _ _ _ a _ a _ _ _ n\n",
      "✅ ¡Bien hecho! La letra r está en la palabra secreta\n",
      "_ r _ _ r a _ a _ _ _ n\n",
      "❌ La letra j no está en la palabra secreta. Te quedan 6 intentos.\n",
      "_ r _ _ r a _ a _ _ _ n\n",
      "❌ La letra k no está en la palabra secreta. Te quedan 6 intentos.\n",
      "_ r _ _ r a _ a _ _ _ n\n",
      "❌ La letra f no está en la palabra secreta. Te quedan 6 intentos.\n",
      "_ r _ _ r a _ a _ _ _ n\n",
      "❌ La letra t no está en la palabra secreta. Te quedan 6 intentos.\n",
      "_ r _ _ r a _ a _ _ _ n\n",
      "✅ ¡Bien hecho! La letra n está en la palabra secreta\n",
      "_ r _ _ r a _ a _ _ _ n\n",
      "❌ La letra t no está en la palabra secreta. Te quedan 6 intentos.\n",
      "_ r _ _ r a _ a _ _ _ n\n",
      " 💀 FIN DEL JUEGO. Has superado el número máximo de errores.\n",
      "La palabra secreta era: programacion\n"
     ]
    }
   ],
   "source": [
    "while errores < max_errores and '_' in letras_acertadas:\n",
    "    letra = input('Introduce una letra').lower()\n",
    "\n",
    "    # Validar que se introduzca una letra y no otra cosa\n",
    "    if len(letra) != 1 or not letra.isalpha():\n",
    "        print('❌ Por favor, introduzca solo una letra válida')\n",
    "        continue\n",
    "    else:\n",
    "        letras_intentadas.append(letra)\n",
    "\n",
    "    # Comprobar que la letra está en la palabra secreta\n",
    "    if letra in palabra_secreta:\n",
    "        print('✅ ¡Bien hecho! La letra', letra, 'está en la palabra secreta')\n",
    "        for i, caracter in enumerate(palabra_secreta):\n",
    "            if caracter == letra:\n",
    "                letras_acertadas[i] = letra\n",
    "    else:\n",
    "        errores += 1\n",
    "        print('❌ La letra', letra, 'no está en la palabra secreta. Te quedan', max_errores, 'intentos.')\n",
    "    print(*letras_acertadas)\n",
    "\n",
    "# Fin del juego\n",
    "if '_' not in letras_acertadas:\n",
    "    print('🎉 ¡FELICIDADES! Has adivinado la palabra', palabra_secreta)\n",
    "else:\n",
    "    print(' 💀 FIN DEL JUEGO. Has superado el número máximo de errores.')\n",
    "    print('La palabra secreta era:', palabra_secreta)\n",
    "\n",
    "\n"
   ]
  },
  {
   "cell_type": "markdown",
   "metadata": {},
   "source": [
    "2. Funcionamiento turnos: mediante un bucle genera el sistema de turnos donde el usuario introduce una letra y le va mostrando su progreso y sus vidas. (En clase)"
   ]
  },
  {
   "cell_type": "code",
   "execution_count": null,
   "metadata": {},
   "outputs": [],
   "source": []
  },
  {
   "cell_type": "markdown",
   "metadata": {},
   "source": [
    "3. Desarrolla la finalización de la partida, tanto si gana como si pierde."
   ]
  },
  {
   "cell_type": "code",
   "execution_count": null,
   "metadata": {},
   "outputs": [],
   "source": []
  },
  {
   "cell_type": "markdown",
   "metadata": {},
   "source": [
    "4. Encapsula el juego en una función llamada ```jugar_ahorcado()``` con la palabra a adivinar y el número de vidas para seleccionar la dificultad como argumentos de entrada."
   ]
  },
  {
   "cell_type": "code",
   "execution_count": null,
   "metadata": {},
   "outputs": [],
   "source": []
  },
  {
   "cell_type": "markdown",
   "metadata": {},
   "source": [
    "5. Termina el juego\n",
    "\n",
    "- **Encapsula la lógica del juego en una función** llamada `jugar_ahorcado` en un archivo `utils.py`.\n",
    "- **Crea un archivo `main.py`** desde donde se ejecutará el juego importando la función `jugar_ahorcado`.\n",
    "- **Prueba el juego desde la terminal** para asegurarte de que funciona correctamente.\n",
    "- **Sube tu proyecto a un repositorio en GitHub**.\n",
    "- **Presenta tu juego a tus compañeros desde la terminal**"
   ]
  }
 ],
 "metadata": {
  "kernelspec": {
   "display_name": "Python 3",
   "language": "python",
   "name": "python3"
  },
  "language_info": {
   "codemirror_mode": {
    "name": "ipython",
    "version": 3
   },
   "file_extension": ".py",
   "mimetype": "text/x-python",
   "name": "python",
   "nbconvert_exporter": "python",
   "pygments_lexer": "ipython3",
   "version": "3.11.8"
  },
  "orig_nbformat": 4
 },
 "nbformat": 4,
 "nbformat_minor": 2
}
